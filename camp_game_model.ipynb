{
 "cells": [
  {
   "cell_type": "markdown",
   "metadata": {},
   "source": [
    "#### A model of the summer camp game James and Sam are making"
   ]
  },
  {
   "cell_type": "code",
   "execution_count": 131,
   "metadata": {},
   "outputs": [],
   "source": [
    "import numpy as np\n",
    "import matplotlib.pyplot as plt\n",
    "import xarray as xr"
   ]
  },
  {
   "cell_type": "code",
   "execution_count": null,
   "metadata": {},
   "outputs": [],
   "source": [
    "### Make a class for the nodes\n",
    "class node():\n",
    "    def __init__(self, name, color, campers, hazard, connected, injury=1):\n",
    "        self.name = name # string\n",
    "        self.connected = connected # list of strings\n",
    "        self.color = color # string\n",
    "        self.campers = campers # integer\n",
    "        self.hazard = hazard # boolean\n",
    "        self.injury = injury # number of campers this hazard injures\n",
    "        self.checked = False # has this node been checked\n",
    "        self.injured = 0 # number of campers injured here cumulative\n",
    "    \n",
    "    def info(self):\n",
    "        print(self.name)\n",
    "        print('connected to', self.connected)\n",
    "        print(self.color)\n",
    "        print(self.campers, 'campers')\n",
    "        print('hazard', self.hazard)\n",
    "        print('injury', self.injury)\n",
    "        print('')\n",
    "        \n",
    "    def activate(self, nodes):\n",
    "        injured_campers = 0 \n",
    "        self.checked = True\n",
    "        if total_campers(nodes) == 0:\n",
    "            return injured_campers\n",
    "        # check the active hazard for campers\n",
    "        if self.campers > 0:\n",
    "            self.campers += -self.injury\n",
    "            injured_campers = self.injury\n",
    "            self.injured += self.injury\n",
    "        \n",
    "        # if there are no campers on the hazard, check the neighboring hazards\n",
    "        else:\n",
    "            # assume at first that you find no campers\n",
    "            campers_found = False\n",
    "            for other_name in self.connected:\n",
    "                other = nodes[other_name]\n",
    "                # for each connected node\n",
    "                if other.campers > 0 and other.hazard == False: \n",
    "                    # if that node has campers on it and is not a hazard itself\n",
    "                    self.campers += other.campers # move those campers here\n",
    "                    other.campers = 0 # remove those campers from there\n",
    "                    # This moves all the campers on connected nodes\n",
    "                    # Mark that you found campers on a connected node\n",
    "                    campers_found = True\n",
    "                \n",
    "            # if there are no campers on any adjecent nodes, check all nodes adjecent to those nodes\n",
    "            if campers_found == False:\n",
    "                for other_name in self.connected:\n",
    "                    other = nodes[other_name]\n",
    "                    if other.checked == False:\n",
    "                        injured_campers += other.activate(nodes)\n",
    "        return injured_campers    \n",
    "                    \n",
    "### draw a card and decide where it goes\n",
    "def draw(deck):\n",
    "    card = deck[-1]\n",
    "    deck = deck[:-1]\n",
    "    return card, deck\n",
    "\n",
    "def reshuffle(location):\n",
    "    deck = location.copy()\n",
    "    np.random.shuffle(deck)\n",
    "    location = []\n",
    "    return deck, location\n",
    "\n",
    "def discard(card, location):\n",
    "    return location.append(card)  \n",
    "\n",
    "def plot_all(r,nodes):\n",
    "    plt.figure(figsize=(10,6))\n",
    "    for n in nodes:\n",
    "        plt.plot(range(r), nodes[n].campers, label=nodes[n].name)\n",
    "        \n",
    "def total_campers(nodes):\n",
    "    campers = 0\n",
    "    for n in nodes:\n",
    "        campers += nodes[n].campers\n",
    "    return campers\n",
    "        "
   ]
  },
  {
   "cell_type": "code",
   "execution_count": null,
   "metadata": {},
   "outputs": [],
   "source": [
    "### establish nodes\n",
    "\n",
    "## evenly distributed map\n",
    "nodes = {}\n",
    "# nodes['mountains'] = node('mountains', 'green', 0, False, ['rapids', 'dining_hall', 'shallows', 'crafts_closet'])\n",
    "# nodes['crafts_closet'] = node('crafts_closet', 'yellow', 0, False, ['mountains', 'ropes_course'])\n",
    "# nodes['ropes_course'] = node('ropes_course', 'green', 0, False, ['crafts_closet', 'shallows', 'ampitheatre'])\n",
    "# nodes['ampitheatre'] = node('ampitheatre', 'yellow', 0, False, ['ropes_course', 'shallows','boat_shed'])\n",
    "# nodes['boat_shed'] = node('boat_shed', 'blue', 0, False, ['ampitheatre', 'campground'])\n",
    "# nodes['campground'] = node('campground', 'green', 0, False, ['shallows', 'dining_hall','boat_shed','beach'])\n",
    "# nodes['shallows'] = node('shallows', 'blue', 0, False, ['mountains','ropes_course','ampitheatre','campground','dining_hall'])\n",
    "# nodes['beach'] = node('beach', 'blue', 0, False, ['campground', 'office','dining_hall','field'])\n",
    "# nodes['dining_hall'] = node('dining_hall', 'yellow', 0, False, ['shallows','mountains','campground','beach','field','rapids'])\n",
    "# nodes['rapids'] = node('rapids', 'blue', 0, False, ['mountains','dining_hall','field','main_lodge'])\n",
    "# nodes['office'] = node('office', 'yellow', 0, False, ['beach','field','river_mouth','deep'])\n",
    "# nodes['field'] = node('field', 'green', 0, False, ['dining_hall','beach','rapids','main_lodge','river_mouth','office'])\n",
    "# nodes['main_lodge'] = node('main_lodge', 'yellow', 0, False, ['rapids','field','river_mouth','adventure_cabin'])\n",
    "# nodes['adventure_cabin'] = node('adventure_cabin', 'green', 0, False, ['main_lodge','wood_shop'])\n",
    "# nodes['wood_shop'] = node('wood_shop', 'yellow', 0, False, ['river_mouth','adventure_cabin','trail_zone'])\n",
    "# nodes['river_mouth'] = node('river_mouth', 'blue', 0, False, ['main_lodge','office','field','wood_shop','trail_zone'])\n",
    "# nodes['trail_zone'] = node('trail_zone', 'green', 0, False, ['wood_shop','river_mouth','deep'])\n",
    "# nodes['deep'] = node('deep', 'blue', 0, False, ['office','trail_zone'])\n",
    "\n",
    "## Clumped map\n",
    "nodes = {}\n",
    "\n",
    "nodes['main_lodge'] = node('main_lodge', 'yellow', 0, False, ['mountains','wood_shop','crafts_closet'])\n",
    "nodes['crafts_closet'] = node('crafts_closet', 'yellow', 0, False, ['main_lodge','ampitheatre'])\n",
    "nodes['wood_shop'] = node('wood_shop', 'yellow', 0, False, ['main_lodge','office','dining_hall'])\n",
    "nodes['office'] = node('office', 'yellow', 0, False, ['wood_shop','campground','dining_hall','rapids'])\n",
    "nodes['dining_hall'] = node('dining_hall', 'yellow', 0, False, ['office','ampitheatre','wood_shop'])\n",
    "nodes['ampitheatre'] = node('ampitheatre', 'yellow', 0, False, ['dining_hall','crafts_closet','beach'])\n",
    "\n",
    "nodes['beach'] = node('beach', 'blue', 0, False, ['boat_shed','shallows','ampitheatre'])\n",
    "nodes['shallows'] = node('shallows', 'blue', 0, False, ['rapids','deep','beach'])\n",
    "nodes['boat_shed'] = node('boat_shed', 'blue', 0, False, ['beach','river_mouth'])\n",
    "nodes['river_mouth'] = node('river_mouth', 'blue', 0, False, ['deep','boat_shed','field'])\n",
    "nodes['rapids'] = node('rapids', 'blue', 0, False, ['deep','shallows','office','campground'])\n",
    "nodes['deep'] = node('deep', 'blue', 0, False, ['office','trail_zone'])\n",
    "\n",
    "nodes['field'] = node('field', 'green', 0, False, ['river_mouth','ropes_course','adventure_cabin'])\n",
    "nodes['ropes_course'] = node('ropes_course', 'green', 0, False, ['field','trail_zone','campground'])\n",
    "nodes['campground'] = node('campground', 'green', 0, False, ['ropes_course','rapids','office','trail_zone'])\n",
    "nodes['trail_zone'] = node('trail_zone', 'green', 0, False, ['campground','ropes_course','mountains'])\n",
    "nodes['adventure_cabin'] = node('adventure_cabin', 'green', 0, False, ['field','mountains'])\n",
    "nodes['mountains'] = node('mountains', 'green', 0, False, ['main_lodge','trail_zone','adventure_cabin'])\n",
    "\n",
    "\n",
    "# nodes['one'] = node('one', 'yellow', 0, False, ['two'])\n",
    "# nodes['two'] = node('two', 'green', 0, False, ['one', 'three'])\n",
    "# nodes['three'] = node('three', 'blue', 0, False, ['two', 'four'])\n",
    "# nodes['four'] = node('four', 'blue', 0, False, ['three'])\n",
    "\n",
    "\n",
    "\n",
    "\n",
    "\n"
   ]
  },
  {
   "cell_type": "code",
   "execution_count": null,
   "metadata": {
    "scrolled": true
   },
   "outputs": [],
   "source": [
    "### create hazard deck\n",
    "full_hazard_deck = []\n",
    "for name in nodes:\n",
    "    full_hazard_deck += [name]*3\n",
    "full_hazard_deck = np.array(full_hazard_deck)\n",
    "hazard_deck = full_hazard_deck.copy()\n",
    "\n",
    "### shuffle the deck\n",
    "np.random.shuffle(hazard_deck)\n",
    "\n",
    "print(hazard_deck)\n",
    "\n",
    "### create the active hazard list \n",
    "active_hazards = []\n",
    "\n",
    "### create a discard list\n",
    "discard_hazards = []\n",
    "\n",
    "### number of campers at the nurse's\n",
    "nurse_campers = 0\n",
    "\n",
    "### Place campers\n",
    "n_campers = [4,3,2,1,1]\n",
    "for i in n_campers: \n",
    "    card, hazard_deck = draw(hazard_deck)\n",
    "    nodes[card].campers += i\n",
    "    discard_hazards.append(card)\n",
    "\n",
    "### Print out info on each node\n",
    "for n in nodes:\n",
    "    nodes[n].info()\n",
    "   "
   ]
  },
  {
   "cell_type": "code",
   "execution_count": null,
   "metadata": {},
   "outputs": [],
   "source": []
  },
  {
   "cell_type": "code",
   "execution_count": null,
   "metadata": {
    "scrolled": false
   },
   "outputs": [],
   "source": [
    "N = 20\n",
    "camper_log = np.zeros((N, len(nodes)))\n",
    "injury_log = np.zeros((N, len(nodes)))\n",
    "for r in range(N):\n",
    "    if total_campers(nodes) == 0: \n",
    "        print('no campers left on turn', r)\n",
    "        break\n",
    "    ## Mark that all nodes haven't been checked\n",
    "    for n in nodes:\n",
    "        nodes[n].checked = False\n",
    "    ## draw a card from the hazard deck\n",
    "    #shuffle the discard in first if the deck is empty\n",
    "    if len(hazard_deck) < 1:\n",
    "        hazard_deck, discard_hazards = reshuffle(discard_hazards)\n",
    "    card, hazard_deck = draw(hazard_deck)\n",
    "#     print(card, active_hazards, discard_hazards)\n",
    "#     print('')\n",
    "\n",
    "    ### activate hazards \n",
    "    # check for a surge\n",
    "    do_surge=False\n",
    "    if True in [nodes[card].name == nodes[haz].name for haz in active_hazards] or len(active_hazards) > 5:\n",
    "        do_surge = True\n",
    "    # check to see if each hazard on the active hazard list is activated\n",
    "    for haz in active_hazards:\n",
    "        # activate hazards that are the same color as the card\n",
    "        if nodes[card].color == nodes[haz].color:\n",
    "            nurse_campers += nodes[card].activate(nodes)# this goes in order from oldest to youngest hazards\n",
    "            if do_surge: # do it again if do_surge is True\n",
    "                nurse_campers += nodes[card].activate(nodes) \n",
    "    # check the activated hazard for campers\n",
    "#     print(nurse_campers, 'injured')\n",
    "#     print('')\n",
    "\n",
    "# place the card in either the discard or the active hazard line\n",
    "    if len(active_hazards) < 5:\n",
    "        # add it to the active hazards\n",
    "        active_hazards.append(card)\n",
    "        nodes[card].hazard = True\n",
    "    else:\n",
    "        discard_hazards.append(card)\n",
    "\n",
    "    for i,n in enumerate(nodes):\n",
    "#         nodes[n].info()\n",
    "        camper_log[r, i] = nodes[n].campers\n",
    "        injury_log[r, i] = nodes[n].injured\n",
    "    camper_log[r, -1] = nurse_campers\n",
    "#     print('')\n",
    "    print(active_hazards)\n"
   ]
  },
  {
   "cell_type": "code",
   "execution_count": null,
   "metadata": {},
   "outputs": [],
   "source": [
    "plotme = injury_log\n",
    "labels = [n for n in nodes]+['injured']\n",
    "plt.plot(plotme[:r,:])\n",
    "plt.legend(labels[:])\n",
    "plt.show()"
   ]
  },
  {
   "cell_type": "code",
   "execution_count": 147,
   "metadata": {},
   "outputs": [],
   "source": [
    "#### Run multiple games and take stats\n",
    "\n",
    "def run_game(n_turns):\n",
    "    ### establish nodes\n",
    "    nodes = {}\n",
    "\n",
    "    nodes['main_lodge'] = node('main_lodge', 'yellow', 0, False, ['mountains','wood_shop','crafts_closet'])\n",
    "    nodes['crafts_closet'] = node('crafts_closet', 'yellow', 0, False, ['main_lodge','ampitheatre'])\n",
    "    nodes['wood_shop'] = node('wood_shop', 'yellow', 0, False, ['main_lodge','office','dining_hall'])\n",
    "    nodes['office'] = node('office', 'yellow', 0, False, ['wood_shop','campground','dining_hall','rapids'])\n",
    "    nodes['dining_hall'] = node('dining_hall', 'yellow', 0, False, ['office','ampitheatre','wood_shop'])\n",
    "    nodes['ampitheatre'] = node('ampitheatre', 'yellow', 0, False, ['dining_hall','crafts_closet','beach'])\n",
    "\n",
    "    nodes['beach'] = node('beach', 'blue', 0, False, ['boat_shed','shallows','ampitheatre'])\n",
    "    nodes['shallows'] = node('shallows', 'blue', 0, False, ['rapids','deep','beach'])\n",
    "    nodes['boat_shed'] = node('boat_shed', 'blue', 0, False, ['beach','river_mouth'])\n",
    "    nodes['river_mouth'] = node('river_mouth', 'blue', 0, False, ['deep','boat_shed','field'])\n",
    "    nodes['rapids'] = node('rapids', 'blue', 0, False, ['deep','shallows','office','campground'])\n",
    "    nodes['deep'] = node('deep', 'blue', 0, False, ['office','trail_zone'])\n",
    "\n",
    "    nodes['field'] = node('field', 'green', 0, False, ['river_mouth','ropes_course','adventure_cabin'])\n",
    "    nodes['ropes_course'] = node('ropes_course', 'green', 0, False, ['field','trail_zone','campground'])\n",
    "    nodes['campground'] = node('campground', 'green', 0, False, ['ropes_course','rapids','office','trail_zone'])\n",
    "    nodes['trail_zone'] = node('trail_zone', 'green', 0, False, ['campground','ropes_course','mountains'])\n",
    "    nodes['adventure_cabin'] = node('adventure_cabin', 'green', 0, False, ['field','mountains'])\n",
    "    nodes['mountains'] = node('mountains', 'green', 0, False, ['main_lodge','trail_zone','adventure_cabin'])\n",
    "\n",
    "\n",
    "    ### create hazard deck\n",
    "    full_hazard_deck = []\n",
    "    for name in nodes:\n",
    "        full_hazard_deck += [name]*3\n",
    "    full_hazard_deck = np.array(full_hazard_deck)\n",
    "    hazard_deck = full_hazard_deck.copy()\n",
    "\n",
    "    ### shuffle the deck\n",
    "    np.random.shuffle(hazard_deck)\n",
    "\n",
    "    ### create the active hazard list \n",
    "    active_hazards = []\n",
    "\n",
    "    ### create a discard list\n",
    "    discard_hazards = []\n",
    "\n",
    "    ### number of campers at the nurse's\n",
    "    nurse_campers = 0\n",
    "\n",
    "    ### Place campers\n",
    "    n_campers = [4,3,2,1,1]\n",
    "    for i in n_campers: \n",
    "        card, hazard_deck = draw(hazard_deck)\n",
    "        nodes[card].campers += i\n",
    "        discard_hazards.append(card)\n",
    "   \n",
    "    N = n_turns  \n",
    "    camper_log = xr.DataArray(np.zeros((N, len(nodes))), coords=[np.arange(N), [n for n in nodes]], dims=['turn', 'node'])\n",
    "    injury_log = xr.DataArray(np.zeros((N, len(nodes))), coords=[np.arange(N), [n for n in nodes]], dims=['turn', 'node'])\n",
    "    for r in range(N):\n",
    "        if total_campers(nodes) == 0:\n",
    "            break\n",
    "        ## Mark that all nodes haven't been checked\n",
    "        for n in nodes:\n",
    "            nodes[n].checked = False\n",
    "        ## draw a card from the hazard deck\n",
    "        #shuffle the discard in first if the deck is empty\n",
    "        if len(hazard_deck) < 1:\n",
    "            hazard_deck, discard_hazards = reshuffle(discard_hazards)\n",
    "        card, hazard_deck = draw(hazard_deck)\n",
    "\n",
    "        ### activate hazards \n",
    "        # check for a surge\n",
    "        do_surge=False\n",
    "        if True in [nodes[card].name == nodes[haz].name for haz in active_hazards] or len(active_hazards) > 5:\n",
    "            do_surge = True\n",
    "        # check to see if each hazard on the active hazard list is activated\n",
    "        for haz in active_hazards:\n",
    "            # activate hazards that are the same color as the card\n",
    "            if nodes[card].color == nodes[haz].color:\n",
    "                nurse_campers += nodes[card].activate(nodes)# this goes in order from oldest to youngest hazards\n",
    "                if do_surge: # do it again if do_surge is True\n",
    "                    nurse_campers += nodes[card].activate(nodes) \n",
    "\n",
    "    # place the card in either the discard or the active hazard line\n",
    "        if len(active_hazards) < 5:\n",
    "            # add it to the active hazards\n",
    "            active_hazards.append(card)\n",
    "            nodes[card].hazard = True\n",
    "        else:\n",
    "            discard_hazards.append(card)\n",
    "\n",
    "        for i,n in enumerate(nodes):\n",
    "            camper_log[r, i] = nodes[n].campers\n",
    "            injury_log[r, i] = nodes[n].injured\n",
    "        camper_log[r, -1] = nurse_campers\n",
    "    return(camper_log, injury_log, r, active_hazards)\n",
    "\n",
    "\n"
   ]
  },
  {
   "cell_type": "code",
   "execution_count": 164,
   "metadata": {},
   "outputs": [],
   "source": [
    "n_games = 10000\n",
    "N = 20\n",
    "camper_log_log = []\n",
    "injury_log_log = []\n",
    "endgame_turn = []\n",
    "active_hazard_log = []\n",
    "for game in range(n_games):\n",
    "    g = run_game(N)\n",
    "    camper_log_log.append(g[0])\n",
    "    injury_log_log.append(g[1])\n",
    "    endgame_turn.append(g[2])\n",
    "    active_hazard_log.append(g[3])\n"
   ]
  },
  {
   "cell_type": "code",
   "execution_count": 203,
   "metadata": {},
   "outputs": [
    {
     "ename": "KeyboardInterrupt",
     "evalue": "",
     "output_type": "error",
     "traceback": [
      "\u001b[0;31m---------------------------------------------------------------------------\u001b[0m",
      "\u001b[0;31mKeyboardInterrupt\u001b[0m                         Traceback (most recent call last)",
      "\u001b[0;32m<ipython-input-203-8a59890b24f1>\u001b[0m in \u001b[0;36m<module>\u001b[0;34m\u001b[0m\n\u001b[0;32m----> 1\u001b[0;31m \u001b[0mcamper_log_log\u001b[0m \u001b[0;34m=\u001b[0m \u001b[0mxr\u001b[0m\u001b[0;34m.\u001b[0m\u001b[0mconcat\u001b[0m\u001b[0;34m(\u001b[0m\u001b[0mcamper_log_log\u001b[0m\u001b[0;34m,\u001b[0m \u001b[0mdim\u001b[0m\u001b[0;34m=\u001b[0m\u001b[0;34m'game'\u001b[0m\u001b[0;34m)\u001b[0m\u001b[0;34m\u001b[0m\u001b[0;34m\u001b[0m\u001b[0m\n\u001b[0m\u001b[1;32m      2\u001b[0m \u001b[0minjury_log_log\u001b[0m \u001b[0;34m=\u001b[0m \u001b[0mxr\u001b[0m\u001b[0;34m.\u001b[0m\u001b[0mconcat\u001b[0m\u001b[0;34m(\u001b[0m\u001b[0minjury_log_log\u001b[0m\u001b[0;34m,\u001b[0m \u001b[0mdim\u001b[0m\u001b[0;34m=\u001b[0m\u001b[0;34m'game'\u001b[0m\u001b[0;34m)\u001b[0m\u001b[0;34m\u001b[0m\u001b[0;34m\u001b[0m\u001b[0m\n\u001b[1;32m      3\u001b[0m \u001b[0mendgame_turn\u001b[0m \u001b[0;34m=\u001b[0m \u001b[0mxr\u001b[0m\u001b[0;34m.\u001b[0m\u001b[0mDataArray\u001b[0m\u001b[0;34m(\u001b[0m\u001b[0mnp\u001b[0m\u001b[0;34m.\u001b[0m\u001b[0marray\u001b[0m\u001b[0;34m(\u001b[0m\u001b[0mendgame_turn\u001b[0m\u001b[0;34m)\u001b[0m\u001b[0;34m,\u001b[0m\u001b[0mdims\u001b[0m\u001b[0;34m=\u001b[0m\u001b[0;34m'turn'\u001b[0m\u001b[0;34m)\u001b[0m\u001b[0;34m\u001b[0m\u001b[0;34m\u001b[0m\u001b[0m\n",
      "\u001b[0;32m~/anaconda3/envs/myculabenv/lib/python3.7/site-packages/xarray/core/concat.py\u001b[0m in \u001b[0;36mconcat\u001b[0;34m(objs, dim, data_vars, coords, compat, positions, fill_value, join)\u001b[0m\n\u001b[1;32m    129\u001b[0m             \u001b[0;34m\"objects, got %s\"\u001b[0m \u001b[0;34m%\u001b[0m \u001b[0mtype\u001b[0m\u001b[0;34m(\u001b[0m\u001b[0mfirst_obj\u001b[0m\u001b[0;34m)\u001b[0m\u001b[0;34m\u001b[0m\u001b[0;34m\u001b[0m\u001b[0m\n\u001b[1;32m    130\u001b[0m         )\n\u001b[0;32m--> 131\u001b[0;31m     \u001b[0;32mreturn\u001b[0m \u001b[0mf\u001b[0m\u001b[0;34m(\u001b[0m\u001b[0mobjs\u001b[0m\u001b[0;34m,\u001b[0m \u001b[0mdim\u001b[0m\u001b[0;34m,\u001b[0m \u001b[0mdata_vars\u001b[0m\u001b[0;34m,\u001b[0m \u001b[0mcoords\u001b[0m\u001b[0;34m,\u001b[0m \u001b[0mcompat\u001b[0m\u001b[0;34m,\u001b[0m \u001b[0mpositions\u001b[0m\u001b[0;34m,\u001b[0m \u001b[0mfill_value\u001b[0m\u001b[0;34m,\u001b[0m \u001b[0mjoin\u001b[0m\u001b[0;34m)\u001b[0m\u001b[0;34m\u001b[0m\u001b[0;34m\u001b[0m\u001b[0m\n\u001b[0m\u001b[1;32m    132\u001b[0m \u001b[0;34m\u001b[0m\u001b[0m\n\u001b[1;32m    133\u001b[0m \u001b[0;34m\u001b[0m\u001b[0m\n",
      "\u001b[0;32m~/anaconda3/envs/myculabenv/lib/python3.7/site-packages/xarray/core/concat.py\u001b[0m in \u001b[0;36m_dataarray_concat\u001b[0;34m(arrays, dim, data_vars, coords, compat, positions, fill_value, join)\u001b[0m\n\u001b[1;32m    416\u001b[0m         \u001b[0mpositions\u001b[0m\u001b[0;34m,\u001b[0m\u001b[0;34m\u001b[0m\u001b[0;34m\u001b[0m\u001b[0m\n\u001b[1;32m    417\u001b[0m         \u001b[0mfill_value\u001b[0m\u001b[0;34m=\u001b[0m\u001b[0mfill_value\u001b[0m\u001b[0;34m,\u001b[0m\u001b[0;34m\u001b[0m\u001b[0;34m\u001b[0m\u001b[0m\n\u001b[0;32m--> 418\u001b[0;31m         \u001b[0mjoin\u001b[0m\u001b[0;34m=\u001b[0m\u001b[0mjoin\u001b[0m\u001b[0;34m,\u001b[0m\u001b[0;34m\u001b[0m\u001b[0;34m\u001b[0m\u001b[0m\n\u001b[0m\u001b[1;32m    419\u001b[0m     )\n\u001b[1;32m    420\u001b[0m     \u001b[0;32mreturn\u001b[0m \u001b[0marrays\u001b[0m\u001b[0;34m[\u001b[0m\u001b[0;36m0\u001b[0m\u001b[0;34m]\u001b[0m\u001b[0;34m.\u001b[0m\u001b[0m_from_temp_dataset\u001b[0m\u001b[0;34m(\u001b[0m\u001b[0mds\u001b[0m\u001b[0;34m,\u001b[0m \u001b[0mname\u001b[0m\u001b[0;34m)\u001b[0m\u001b[0;34m\u001b[0m\u001b[0;34m\u001b[0m\u001b[0m\n",
      "\u001b[0;32m~/anaconda3/envs/myculabenv/lib/python3.7/site-packages/xarray/core/concat.py\u001b[0m in \u001b[0;36m_dataset_concat\u001b[0;34m(datasets, dim, data_vars, coords, compat, positions, fill_value, join)\u001b[0m\n\u001b[1;32m    280\u001b[0m     \u001b[0mdatasets\u001b[0m \u001b[0;34m=\u001b[0m \u001b[0;34m[\u001b[0m\u001b[0mds\u001b[0m\u001b[0;34m.\u001b[0m\u001b[0mcopy\u001b[0m\u001b[0;34m(\u001b[0m\u001b[0;34m)\u001b[0m \u001b[0;32mfor\u001b[0m \u001b[0mds\u001b[0m \u001b[0;32min\u001b[0m \u001b[0mdatasets\u001b[0m\u001b[0;34m]\u001b[0m\u001b[0;34m\u001b[0m\u001b[0;34m\u001b[0m\u001b[0m\n\u001b[1;32m    281\u001b[0m     datasets = align(\n\u001b[0;32m--> 282\u001b[0;31m         \u001b[0;34m*\u001b[0m\u001b[0mdatasets\u001b[0m\u001b[0;34m,\u001b[0m \u001b[0mjoin\u001b[0m\u001b[0;34m=\u001b[0m\u001b[0mjoin\u001b[0m\u001b[0;34m,\u001b[0m \u001b[0mcopy\u001b[0m\u001b[0;34m=\u001b[0m\u001b[0;32mFalse\u001b[0m\u001b[0;34m,\u001b[0m \u001b[0mexclude\u001b[0m\u001b[0;34m=\u001b[0m\u001b[0;34m[\u001b[0m\u001b[0mdim\u001b[0m\u001b[0;34m]\u001b[0m\u001b[0;34m,\u001b[0m \u001b[0mfill_value\u001b[0m\u001b[0;34m=\u001b[0m\u001b[0mfill_value\u001b[0m\u001b[0;34m\u001b[0m\u001b[0;34m\u001b[0m\u001b[0m\n\u001b[0m\u001b[1;32m    283\u001b[0m     )\n\u001b[1;32m    284\u001b[0m \u001b[0;34m\u001b[0m\u001b[0m\n",
      "\u001b[0;32m~/anaconda3/envs/myculabenv/lib/python3.7/site-packages/xarray/core/alignment.py\u001b[0m in \u001b[0;36malign\u001b[0;34m(join, copy, indexes, exclude, fill_value, *objects)\u001b[0m\n\u001b[1;32m    262\u001b[0m             \u001b[0;32mif\u001b[0m \u001b[0mdim\u001b[0m \u001b[0;32mnot\u001b[0m \u001b[0;32min\u001b[0m \u001b[0mexclude\u001b[0m\u001b[0;34m:\u001b[0m\u001b[0;34m\u001b[0m\u001b[0;34m\u001b[0m\u001b[0m\n\u001b[1;32m    263\u001b[0m                 \u001b[0;32mtry\u001b[0m\u001b[0;34m:\u001b[0m\u001b[0;34m\u001b[0m\u001b[0;34m\u001b[0m\u001b[0m\n\u001b[0;32m--> 264\u001b[0;31m                     \u001b[0mindex\u001b[0m \u001b[0;34m=\u001b[0m \u001b[0mobj\u001b[0m\u001b[0;34m.\u001b[0m\u001b[0mindexes\u001b[0m\u001b[0;34m[\u001b[0m\u001b[0mdim\u001b[0m\u001b[0;34m]\u001b[0m\u001b[0;34m\u001b[0m\u001b[0;34m\u001b[0m\u001b[0m\n\u001b[0m\u001b[1;32m    265\u001b[0m                 \u001b[0;32mexcept\u001b[0m \u001b[0mKeyError\u001b[0m\u001b[0;34m:\u001b[0m\u001b[0;34m\u001b[0m\u001b[0;34m\u001b[0m\u001b[0m\n\u001b[1;32m    266\u001b[0m                     \u001b[0munlabeled_dim_sizes\u001b[0m\u001b[0;34m[\u001b[0m\u001b[0mdim\u001b[0m\u001b[0;34m]\u001b[0m\u001b[0;34m.\u001b[0m\u001b[0madd\u001b[0m\u001b[0;34m(\u001b[0m\u001b[0mobj\u001b[0m\u001b[0;34m.\u001b[0m\u001b[0msizes\u001b[0m\u001b[0;34m[\u001b[0m\u001b[0mdim\u001b[0m\u001b[0;34m]\u001b[0m\u001b[0;34m)\u001b[0m\u001b[0;34m\u001b[0m\u001b[0;34m\u001b[0m\u001b[0m\n",
      "\u001b[0;32m~/anaconda3/envs/myculabenv/lib/python3.7/site-packages/xarray/core/dataset.py\u001b[0m in \u001b[0;36mindexes\u001b[0;34m(self)\u001b[0m\n\u001b[1;32m   1342\u001b[0m         \"\"\"\n\u001b[1;32m   1343\u001b[0m         \u001b[0;32mif\u001b[0m \u001b[0mself\u001b[0m\u001b[0;34m.\u001b[0m\u001b[0m_indexes\u001b[0m \u001b[0;32mis\u001b[0m \u001b[0;32mNone\u001b[0m\u001b[0;34m:\u001b[0m\u001b[0;34m\u001b[0m\u001b[0;34m\u001b[0m\u001b[0m\n\u001b[0;32m-> 1344\u001b[0;31m             \u001b[0mself\u001b[0m\u001b[0;34m.\u001b[0m\u001b[0m_indexes\u001b[0m \u001b[0;34m=\u001b[0m \u001b[0mdefault_indexes\u001b[0m\u001b[0;34m(\u001b[0m\u001b[0mself\u001b[0m\u001b[0;34m.\u001b[0m\u001b[0m_variables\u001b[0m\u001b[0;34m,\u001b[0m \u001b[0mself\u001b[0m\u001b[0;34m.\u001b[0m\u001b[0m_dims\u001b[0m\u001b[0;34m)\u001b[0m\u001b[0;34m\u001b[0m\u001b[0;34m\u001b[0m\u001b[0m\n\u001b[0m\u001b[1;32m   1345\u001b[0m         \u001b[0;32mreturn\u001b[0m \u001b[0mIndexes\u001b[0m\u001b[0;34m(\u001b[0m\u001b[0mself\u001b[0m\u001b[0;34m.\u001b[0m\u001b[0m_indexes\u001b[0m\u001b[0;34m)\u001b[0m\u001b[0;34m\u001b[0m\u001b[0;34m\u001b[0m\u001b[0m\n\u001b[1;32m   1346\u001b[0m \u001b[0;34m\u001b[0m\u001b[0m\n",
      "\u001b[0;32m~/anaconda3/envs/myculabenv/lib/python3.7/site-packages/xarray/core/indexes.py\u001b[0m in \u001b[0;36mdefault_indexes\u001b[0;34m(coords, dims)\u001b[0m\n\u001b[1;32m     57\u001b[0m     \u001b[0mindexing\u001b[0m \u001b[0malong\u001b[0m \u001b[0mthat\u001b[0m \u001b[0mdimension\u001b[0m\u001b[0;34m.\u001b[0m\u001b[0;34m\u001b[0m\u001b[0;34m\u001b[0m\u001b[0m\n\u001b[1;32m     58\u001b[0m     \"\"\"\n\u001b[0;32m---> 59\u001b[0;31m     \u001b[0;32mreturn\u001b[0m \u001b[0;34m{\u001b[0m\u001b[0mkey\u001b[0m\u001b[0;34m:\u001b[0m \u001b[0mcoords\u001b[0m\u001b[0;34m[\u001b[0m\u001b[0mkey\u001b[0m\u001b[0;34m]\u001b[0m\u001b[0;34m.\u001b[0m\u001b[0mto_index\u001b[0m\u001b[0;34m(\u001b[0m\u001b[0;34m)\u001b[0m \u001b[0;32mfor\u001b[0m \u001b[0mkey\u001b[0m \u001b[0;32min\u001b[0m \u001b[0mdims\u001b[0m \u001b[0;32mif\u001b[0m \u001b[0mkey\u001b[0m \u001b[0;32min\u001b[0m \u001b[0mcoords\u001b[0m\u001b[0;34m}\u001b[0m\u001b[0;34m\u001b[0m\u001b[0;34m\u001b[0m\u001b[0m\n\u001b[0m\u001b[1;32m     60\u001b[0m \u001b[0;34m\u001b[0m\u001b[0m\n\u001b[1;32m     61\u001b[0m \u001b[0;34m\u001b[0m\u001b[0m\n",
      "\u001b[0;32m~/anaconda3/envs/myculabenv/lib/python3.7/site-packages/xarray/core/indexes.py\u001b[0m in \u001b[0;36m<dictcomp>\u001b[0;34m(.0)\u001b[0m\n\u001b[1;32m     57\u001b[0m     \u001b[0mindexing\u001b[0m \u001b[0malong\u001b[0m \u001b[0mthat\u001b[0m \u001b[0mdimension\u001b[0m\u001b[0;34m.\u001b[0m\u001b[0;34m\u001b[0m\u001b[0;34m\u001b[0m\u001b[0m\n\u001b[1;32m     58\u001b[0m     \"\"\"\n\u001b[0;32m---> 59\u001b[0;31m     \u001b[0;32mreturn\u001b[0m \u001b[0;34m{\u001b[0m\u001b[0mkey\u001b[0m\u001b[0;34m:\u001b[0m \u001b[0mcoords\u001b[0m\u001b[0;34m[\u001b[0m\u001b[0mkey\u001b[0m\u001b[0;34m]\u001b[0m\u001b[0;34m.\u001b[0m\u001b[0mto_index\u001b[0m\u001b[0;34m(\u001b[0m\u001b[0;34m)\u001b[0m \u001b[0;32mfor\u001b[0m \u001b[0mkey\u001b[0m \u001b[0;32min\u001b[0m \u001b[0mdims\u001b[0m \u001b[0;32mif\u001b[0m \u001b[0mkey\u001b[0m \u001b[0;32min\u001b[0m \u001b[0mcoords\u001b[0m\u001b[0;34m}\u001b[0m\u001b[0;34m\u001b[0m\u001b[0;34m\u001b[0m\u001b[0m\n\u001b[0m\u001b[1;32m     60\u001b[0m \u001b[0;34m\u001b[0m\u001b[0m\n\u001b[1;32m     61\u001b[0m \u001b[0;34m\u001b[0m\u001b[0m\n",
      "\u001b[0;32m~/anaconda3/envs/myculabenv/lib/python3.7/site-packages/xarray/core/variable.py\u001b[0m in \u001b[0;36mto_index\u001b[0;34m(self)\u001b[0m\n\u001b[1;32m   2098\u001b[0m             \u001b[0mindex\u001b[0m \u001b[0;34m=\u001b[0m \u001b[0mindex\u001b[0m\u001b[0;34m.\u001b[0m\u001b[0mset_names\u001b[0m\u001b[0;34m(\u001b[0m\u001b[0mvalid_level_names\u001b[0m\u001b[0;34m)\u001b[0m\u001b[0;34m\u001b[0m\u001b[0;34m\u001b[0m\u001b[0m\n\u001b[1;32m   2099\u001b[0m         \u001b[0;32melse\u001b[0m\u001b[0;34m:\u001b[0m\u001b[0;34m\u001b[0m\u001b[0;34m\u001b[0m\u001b[0m\n\u001b[0;32m-> 2100\u001b[0;31m             \u001b[0mindex\u001b[0m \u001b[0;34m=\u001b[0m \u001b[0mindex\u001b[0m\u001b[0;34m.\u001b[0m\u001b[0mset_names\u001b[0m\u001b[0;34m(\u001b[0m\u001b[0mself\u001b[0m\u001b[0;34m.\u001b[0m\u001b[0mname\u001b[0m\u001b[0;34m)\u001b[0m\u001b[0;34m\u001b[0m\u001b[0;34m\u001b[0m\u001b[0m\n\u001b[0m\u001b[1;32m   2101\u001b[0m         \u001b[0;32mreturn\u001b[0m \u001b[0mindex\u001b[0m\u001b[0;34m\u001b[0m\u001b[0;34m\u001b[0m\u001b[0m\n\u001b[1;32m   2102\u001b[0m \u001b[0;34m\u001b[0m\u001b[0m\n",
      "\u001b[0;32m~/anaconda3/envs/myculabenv/lib/python3.7/site-packages/pandas/core/indexes/base.py\u001b[0m in \u001b[0;36mset_names\u001b[0;34m(self, names, level, inplace)\u001b[0m\n\u001b[1;32m   1340\u001b[0m         \u001b[0;32melse\u001b[0m\u001b[0;34m:\u001b[0m\u001b[0;34m\u001b[0m\u001b[0;34m\u001b[0m\u001b[0m\n\u001b[1;32m   1341\u001b[0m             \u001b[0midx\u001b[0m \u001b[0;34m=\u001b[0m \u001b[0mself\u001b[0m\u001b[0;34m.\u001b[0m\u001b[0m_shallow_copy\u001b[0m\u001b[0;34m(\u001b[0m\u001b[0;34m)\u001b[0m\u001b[0;34m\u001b[0m\u001b[0;34m\u001b[0m\u001b[0m\n\u001b[0;32m-> 1342\u001b[0;31m         \u001b[0midx\u001b[0m\u001b[0;34m.\u001b[0m\u001b[0m_set_names\u001b[0m\u001b[0;34m(\u001b[0m\u001b[0mnames\u001b[0m\u001b[0;34m,\u001b[0m \u001b[0mlevel\u001b[0m\u001b[0;34m=\u001b[0m\u001b[0mlevel\u001b[0m\u001b[0;34m)\u001b[0m\u001b[0;34m\u001b[0m\u001b[0;34m\u001b[0m\u001b[0m\n\u001b[0m\u001b[1;32m   1343\u001b[0m         \u001b[0;32mif\u001b[0m \u001b[0;32mnot\u001b[0m \u001b[0minplace\u001b[0m\u001b[0;34m:\u001b[0m\u001b[0;34m\u001b[0m\u001b[0;34m\u001b[0m\u001b[0m\n\u001b[1;32m   1344\u001b[0m             \u001b[0;32mreturn\u001b[0m \u001b[0midx\u001b[0m\u001b[0;34m\u001b[0m\u001b[0;34m\u001b[0m\u001b[0m\n",
      "\u001b[0;32m~/anaconda3/envs/myculabenv/lib/python3.7/site-packages/pandas/core/indexes/base.py\u001b[0m in \u001b[0;36m_set_names\u001b[0;34m(self, values, level)\u001b[0m\n\u001b[1;32m   1266\u001b[0m                 raise TypeError('{}.name must be a hashable type'\n\u001b[1;32m   1267\u001b[0m                                 .format(self.__class__.__name__))\n\u001b[0;32m-> 1268\u001b[0;31m         \u001b[0mself\u001b[0m\u001b[0;34m.\u001b[0m\u001b[0mname\u001b[0m \u001b[0;34m=\u001b[0m \u001b[0mvalues\u001b[0m\u001b[0;34m[\u001b[0m\u001b[0;36m0\u001b[0m\u001b[0;34m]\u001b[0m\u001b[0;34m\u001b[0m\u001b[0;34m\u001b[0m\u001b[0m\n\u001b[0m\u001b[1;32m   1269\u001b[0m \u001b[0;34m\u001b[0m\u001b[0m\n\u001b[1;32m   1270\u001b[0m     \u001b[0mnames\u001b[0m \u001b[0;34m=\u001b[0m \u001b[0mproperty\u001b[0m\u001b[0;34m(\u001b[0m\u001b[0mfset\u001b[0m\u001b[0;34m=\u001b[0m\u001b[0m_set_names\u001b[0m\u001b[0;34m,\u001b[0m \u001b[0mfget\u001b[0m\u001b[0;34m=\u001b[0m\u001b[0m_get_names\u001b[0m\u001b[0;34m)\u001b[0m\u001b[0;34m\u001b[0m\u001b[0;34m\u001b[0m\u001b[0m\n",
      "\u001b[0;31mKeyboardInterrupt\u001b[0m: "
     ]
    }
   ],
   "source": [
    "camper_log_log = xr.concat(camper_log_log, dim='game')\n",
    "injury_log_log = xr.concat(injury_log_log, dim='game')\n"
   ]
  },
  {
   "cell_type": "code",
   "execution_count": 204,
   "metadata": {
    "scrolled": false
   },
   "outputs": [
    {
     "name": "stderr",
     "output_type": "stream",
     "text": [
      "No handles with labels found to put in legend.\n"
     ]
    },
    {
     "data": {
      "image/png": "[encoded data removed]",
      "text/plain": [
       "<Figure size 432x288 with 1 Axes>"
      ]
     },
     "metadata": {
      "needs_background": "light"
     },
     "output_type": "display_data"
    },
    {
     "data": {
      "image/png": "[encoded data removed]",
      "text/plain": [
       "<Figure size 432x288 with 1 Axes>"
      ]
     },
     "metadata": {
      "needs_background": "light"
     },
     "output_type": "display_data"
    }
   ],
   "source": [
    "\n",
    "plt.figure()\n",
    "injury_log_log.mean('game').plot.line(x='turn')\n",
    "plt.title(n)\n",
    "plt.ylim(0,0.6)\n",
    "plt.xlim(0,30)\n",
    "plt.hist(endgame_turn, density=True)\n",
    "plt.legend()\n",
    "plt.show()\n",
    "\n",
    "plt.figure()\n",
    "camper_log_log.mean('game').plot.line(x='turn')\n",
    "plt.title(n)\n",
    "# plt.ylim(0,0.6)\n",
    "plt.xlim(0,30)\n",
    "# plt.hist(endgame_turn, density=True)\n",
    "plt.show()"
   ]
  },
  {
   "cell_type": "markdown",
   "metadata": {},
   "source": [
    "### Notes: The \n",
    "Although the deep doesn't injure as many campers as most other hazards, it peaks in injured campers one whole turn earlier, at turn 9 (index 8) than all the other hazards, which peak at turn 10.\n",
    "\n",
    "The office appears to be the single most dangerous hazard with the dining hall as second most dangerous, and that is hilarious.\n",
    "\n",
    "The least dangerous hazards are the adventure cabin and the boat shed.\n"
   ]
  },
  {
   "cell_type": "code",
   "execution_count": 214,
   "metadata": {},
   "outputs": [],
   "source": [
    "injury_log_log.to_netcdf('injury_log_log_clustered_map_N_10000_12_24_19.nc')\n",
    "camper_log_log.to_netcdf('camper_log_log_clustered_map_N_10000_12_24_19.nc')\n",
    "endgame_turn.to_netcdf('endgame_turn_clustered_map_N_10000_12_24_19.nc')"
   ]
  },
  {
   "cell_type": "code",
   "execution_count": 217,
   "metadata": {},
   "outputs": [
    {
     "data": {
      "text/plain": [
       "(10000, 5)"
      ]
     },
     "execution_count": 217,
     "metadata": {},
     "output_type": "execute_result"
    }
   ],
   "source": [
    "a = np.array(active_hazard_log)\n",
    "a.shape"
   ]
  },
  {
   "cell_type": "code",
   "execution_count": 218,
   "metadata": {},
   "outputs": [],
   "source": [
    "active_hazard_log = xr.DataArray(np.array(active_hazard_log),dims=['game','n_haz'])\n"
   ]
  },
  {
   "cell_type": "code",
   "execution_count": 220,
   "metadata": {},
   "outputs": [],
   "source": [
    "active_hazard_log.to_netcdf('active_hazard_log_clustered_map_N_10000_12_24_19.nc')"
   ]
  },
  {
   "cell_type": "code",
   "execution_count": null,
   "metadata": {},
   "outputs": [],
   "source": []
  }
 ],
 "metadata": {
  "kernelspec": {
   "display_name": "Python 3",
   "language": "python",
   "name": "python3"
  },
  "language_info": {
   "codemirror_mode": {
    "name": "ipython",
    "version": 3
   },
   "file_extension": ".py",
   "mimetype": "text/x-python",
   "name": "python",
   "nbconvert_exporter": "python",
   "pygments_lexer": "ipython3",
   "version": "3.7.3"
  }
 },
 "nbformat": 4,
 "nbformat_minor": 2
}
